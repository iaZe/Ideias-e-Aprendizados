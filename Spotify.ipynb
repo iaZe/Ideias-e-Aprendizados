{
  "nbformat": 4,
  "nbformat_minor": 0,
  "metadata": {
    "colab": {
      "provenance": [],
      "authorship_tag": "ABX9TyOG0ZkazXI9k/RXAxyyYTU0",
      "include_colab_link": true
    },
    "kernelspec": {
      "name": "python3",
      "display_name": "Python 3"
    },
    "language_info": {
      "name": "python"
    }
  },
  "cells": [
    {
      "cell_type": "markdown",
      "metadata": {
        "id": "view-in-github",
        "colab_type": "text"
      },
      "source": [
        "<a href=\"https://colab.research.google.com/github/iaZe/Ideias-e-Aprendizados/blob/main/Spotify.ipynb\" target=\"_parent\"><img src=\"https://colab.research.google.com/assets/colab-badge.svg\" alt=\"Open In Colab\"/></a>"
      ]
    },
    {
      "cell_type": "code",
      "execution_count": 2,
      "metadata": {
        "colab": {
          "base_uri": "https://localhost:8080/"
        },
        "id": "yTkpBpaefgI9",
        "outputId": "f8747b4f-ace5-4f14-b165-436cd6ab5c10"
      },
      "outputs": [
        {
          "output_type": "stream",
          "name": "stdout",
          "text": [
            "Collecting pyspark\n",
            "  Downloading pyspark-3.5.0.tar.gz (316.9 MB)\n",
            "\u001b[2K     \u001b[90m━━━━━━━━━━━━━━━━━━━━━━━━━━━━━━━━━━━━━━━━\u001b[0m \u001b[32m316.9/316.9 MB\u001b[0m \u001b[31m4.3 MB/s\u001b[0m eta \u001b[36m0:00:00\u001b[0m\n",
            "\u001b[?25h  Preparing metadata (setup.py) ... \u001b[?25l\u001b[?25hdone\n",
            "Requirement already satisfied: py4j==0.10.9.7 in /usr/local/lib/python3.10/dist-packages (from pyspark) (0.10.9.7)\n",
            "Building wheels for collected packages: pyspark\n",
            "  Building wheel for pyspark (setup.py) ... \u001b[?25l\u001b[?25hdone\n",
            "  Created wheel for pyspark: filename=pyspark-3.5.0-py2.py3-none-any.whl size=317425345 sha256=054c7cd1055f3009a11865bb108e7c1b06bb6efc7a0fcb1822c7cf4d247cbb7c\n",
            "  Stored in directory: /root/.cache/pip/wheels/41/4e/10/c2cf2467f71c678cfc8a6b9ac9241e5e44a01940da8fbb17fc\n",
            "Successfully built pyspark\n",
            "Installing collected packages: pyspark\n",
            "Successfully installed pyspark-3.5.0\n"
          ]
        }
      ],
      "source": [
        "!pip install pyspark"
      ]
    },
    {
      "cell_type": "code",
      "source": [
        "from pyspark.sql import SparkSession\n",
        "from pyspark.sql.functions import count, col, asc, desc\n",
        "\n",
        "spark = SparkSession.builder.appName(\"Spotyfinho\").getOrCreate()\n",
        "\n",
        "data_path = \"/content/spotify.csv\"\n",
        "dataframe = spark.read.csv(data_path, header = True, inferSchema = True)\n",
        "\n",
        "dataframe.show()"
      ],
      "metadata": {
        "colab": {
          "base_uri": "https://localhost:8080/"
        },
        "id": "utVtlZ2cf2I8",
        "outputId": "30a4a7a3-cc22-4bbd-e100-f477b2d87e46"
      },
      "execution_count": 90,
      "outputs": [
        {
          "output_type": "stream",
          "name": "stdout",
          "text": [
            "+----------+--------------------+--------------------+--------------------+--------------------+----------+-----------+--------+------------+------+---+--------+----+-----------+------------+----------------+--------+-------+-------+--------------+-----------+\n",
            "|Unnamed: 0|            track_id|             artists|          album_name|          track_name|popularity|duration_ms|explicit|danceability|energy|key|loudness|mode|speechiness|acousticness|instrumentalness|liveness|valence|  tempo|time_signature|track_genre|\n",
            "+----------+--------------------+--------------------+--------------------+--------------------+----------+-----------+--------+------------+------+---+--------+----+-----------+------------+----------------+--------+-------+-------+--------------+-----------+\n",
            "|         0|5SuOikwiRyPMVoIQD...|         Gen Hoshino|              Comedy|              Comedy|        73|     230666|   False|       0.676| 0.461|  1|  -6.746|   0|      0.143|      0.0322|         1.01E-6|   0.358|  0.715| 87.917|           4.0|   acoustic|\n",
            "|         1|4qPNDBW1i3p13qLCt...|        Ben Woodward|    Ghost (Acoustic)|    Ghost - Acoustic|        55|     149610|   False|        0.42| 0.166|  1| -17.235|   1|     0.0763|       0.924|         5.56E-6|   0.101|  0.267| 77.489|           4.0|   acoustic|\n",
            "|         2|1iJBSr7s7jYXzM8EG...|Ingrid Michaelson...|      To Begin Again|      To Begin Again|        57|     210826|   False|       0.438| 0.359|  0|  -9.734|   1|     0.0557|        0.21|             0.0|   0.117|   0.12| 76.332|           4.0|   acoustic|\n",
            "|         3|6lfxq3CG4xtTiEg7o...|        Kina Grannis|Crazy Rich Asians...|Can't Help Fallin...|        71|     201933|   False|       0.266|0.0596|  0| -18.515|   1|     0.0363|       0.905|         7.07E-5|   0.132|  0.143| 181.74|           3.0|   acoustic|\n",
            "|         4|5vjLSffimiIP26QG5...|    Chord Overstreet|             Hold On|             Hold On|        82|     198853|   False|       0.618| 0.443|  2|  -9.681|   1|     0.0526|       0.469|             0.0|  0.0829|  0.167|119.949|           4.0|   acoustic|\n",
            "|         5|01MVOl9KtVTNfFiBU...|        Tyrone Wells|Days I Will Remember|Days I Will Remember|        58|     214240|   False|       0.688| 0.481|  6|  -8.807|   1|      0.105|       0.289|             0.0|   0.189|  0.666| 98.017|           4.0|   acoustic|\n",
            "|         6|6Vc5wAMmXdKIAM7WU...|A Great Big World...|Is There Anybody ...|       Say Something|        74|     229400|   False|       0.407| 0.147|  2|  -8.822|   1|     0.0355|       0.857|         2.89E-6|  0.0913| 0.0765|141.284|           3.0|   acoustic|\n",
            "|         7|1EzrEOXmMH3G43AXT...|          Jason Mraz|We Sing. We Dance...|           I'm Yours|        80|     242946|   False|       0.703| 0.444| 11|  -9.331|   1|     0.0417|       0.559|             0.0|  0.0973|  0.712| 150.96|           4.0|   acoustic|\n",
            "|         8|0IktbUcnAGrvD03AW...|Jason Mraz;Colbie...|We Sing. We Dance...|               Lucky|        74|     189613|   False|       0.625| 0.414|  0|    -8.7|   1|     0.0369|       0.294|             0.0|   0.151|  0.669|130.088|           4.0|   acoustic|\n",
            "|         9|7k9GuJYLp2AzqokyE...|      Ross Copperman|              Hunger|              Hunger|        56|     205594|   False|       0.442| 0.632|  1|   -6.77|   1|     0.0295|       0.426|         0.00419|  0.0735|  0.196| 78.899|           4.0|   acoustic|\n",
            "|        10|4mzP5mHkRvGxdhdGd...|        Zack Tabudlo|             Episode|Give Me Your Forever|        74|     244800|   False|       0.627| 0.363|  8|  -8.127|   1|     0.0291|       0.279|             0.0|  0.0928|  0.301| 99.905|           4.0|   acoustic|\n",
            "|        11|5ivF4eQBqJiVL5IAE...|          Jason Mraz|Love Is a Four Le...|     I Won't Give Up|        69|     240165|   False|       0.483| 0.303|  4| -10.058|   1|     0.0429|       0.694|             0.0|   0.115|  0.139|133.406|           3.0|   acoustic|\n",
            "|        12|4ptDJbJl35d7gQfeN...|            Dan Berk|                Solo|                Solo|        52|     198712|   False|       0.489| 0.314|  7|  -9.245|   0|     0.0331|       0.749|             0.0|   0.113|  0.607|124.234|           4.0|   acoustic|\n",
            "|        13|0X9MxHR1rTkEHDjp9...|       Anna Hamilton|            Bad Liar|            Bad Liar|        62|     248448|   False|       0.691| 0.234|  3|  -6.441|   1|     0.0285|       0.777|             0.0|    0.12|  0.209| 87.103|           4.0|   acoustic|\n",
            "|        14|4LbWtBkN82ZRhz9jq...|Chord Overstreet;...|     Hold On (Remix)|     Hold On - Remix|        56|     188133|   False|       0.755|  0.78|  2|  -6.084|   1|     0.0327|       0.124|         2.83E-5|   0.121|  0.387|120.004|           4.0|   acoustic|\n",
            "|        15|1KHdq8NK9QxnGjdXb...|         Landon Pigg|   The Boy Who Never|Falling in Love a...|        58|     244986|   False|       0.489| 0.561|  4|  -7.933|   1|     0.0274|         0.2|         4.56E-5|   0.179|  0.238| 83.457|           3.0|   acoustic|\n",
            "|        16|6xKeQgzfjixSUld14...|Andrew Foy;Renee Foy|ily (i love you b...|ily (i love you b...|        56|     129750|   False|       0.706| 0.112|  2| -18.098|   1|     0.0391|       0.827|         4.03E-6|   0.125|  0.414|110.154|           4.0|   acoustic|\n",
            "|        17|4Yo0igmcoNyat1sec...|Andrew Foy;Renee Foy|         At My Worst|         At My Worst|        54|     169728|   False|       0.795|0.0841| 10|  -18.09|   0|     0.0461|       0.742|         1.17E-5|  0.0853|  0.609| 91.803|           4.0|   acoustic|\n",
            "|        18|2qLMf6TuEC3ruGJg4...|Jason Mraz;Colbie...|We Sing. We Dance...|               Lucky|        68|     189613|   False|       0.625| 0.414|  0|    -8.7|   1|     0.0369|       0.294|             0.0|   0.151|  0.669|130.088|           4.0|   acoustic|\n",
            "|        19|6CgNoAbFJ4Q4Id4Ej...|Boyce Avenue;Bea ...|Cover Sessions, V...|          Photograph|        67|     260186|   False|       0.717|  0.32|  3|  -8.393|   1|     0.0283|        0.83|             0.0|   0.107|  0.322|107.946|           4.0|   acoustic|\n",
            "+----------+--------------------+--------------------+--------------------+--------------------+----------+-----------+--------+------------+------+---+--------+----+-----------+------------+----------------+--------+-------+-------+--------------+-----------+\n",
            "only showing top 20 rows\n",
            "\n"
          ]
        }
      ]
    },
    {
      "cell_type": "code",
      "source": [
        "dataframe_view = dataframe.select(\"track_name\", \"artists\", \"album_name\", \"duration_ms\", \"popularity\", \"track_genre\")\n",
        "dataframe_view = dataframe.filter(col(\"popularity\").cast(\"double\").isNotNull())\n",
        "dataframe_view.show()"
      ],
      "metadata": {
        "colab": {
          "base_uri": "https://localhost:8080/"
        },
        "id": "NtsmU9Gpg7vm",
        "outputId": "8687f6a3-9ee6-4aad-e6ea-cbff2f3b132b"
      },
      "execution_count": 142,
      "outputs": [
        {
          "output_type": "stream",
          "name": "stdout",
          "text": [
            "+----------+--------------------+--------------------+--------------------+--------------------+----------+-----------+--------+------------+------+---+--------+----+-----------+------------+----------------+--------+-------+-------+--------------+-----------+\n",
            "|Unnamed: 0|            track_id|             artists|          album_name|          track_name|popularity|duration_ms|explicit|danceability|energy|key|loudness|mode|speechiness|acousticness|instrumentalness|liveness|valence|  tempo|time_signature|track_genre|\n",
            "+----------+--------------------+--------------------+--------------------+--------------------+----------+-----------+--------+------------+------+---+--------+----+-----------+------------+----------------+--------+-------+-------+--------------+-----------+\n",
            "|         0|5SuOikwiRyPMVoIQD...|         Gen Hoshino|              Comedy|              Comedy|        73|     230666|   False|       0.676| 0.461|  1|  -6.746|   0|      0.143|      0.0322|         1.01E-6|   0.358|  0.715| 87.917|           4.0|   acoustic|\n",
            "|         1|4qPNDBW1i3p13qLCt...|        Ben Woodward|    Ghost (Acoustic)|    Ghost - Acoustic|        55|     149610|   False|        0.42| 0.166|  1| -17.235|   1|     0.0763|       0.924|         5.56E-6|   0.101|  0.267| 77.489|           4.0|   acoustic|\n",
            "|         2|1iJBSr7s7jYXzM8EG...|Ingrid Michaelson...|      To Begin Again|      To Begin Again|        57|     210826|   False|       0.438| 0.359|  0|  -9.734|   1|     0.0557|        0.21|             0.0|   0.117|   0.12| 76.332|           4.0|   acoustic|\n",
            "|         3|6lfxq3CG4xtTiEg7o...|        Kina Grannis|Crazy Rich Asians...|Can't Help Fallin...|        71|     201933|   False|       0.266|0.0596|  0| -18.515|   1|     0.0363|       0.905|         7.07E-5|   0.132|  0.143| 181.74|           3.0|   acoustic|\n",
            "|         4|5vjLSffimiIP26QG5...|    Chord Overstreet|             Hold On|             Hold On|        82|     198853|   False|       0.618| 0.443|  2|  -9.681|   1|     0.0526|       0.469|             0.0|  0.0829|  0.167|119.949|           4.0|   acoustic|\n",
            "|         5|01MVOl9KtVTNfFiBU...|        Tyrone Wells|Days I Will Remember|Days I Will Remember|        58|     214240|   False|       0.688| 0.481|  6|  -8.807|   1|      0.105|       0.289|             0.0|   0.189|  0.666| 98.017|           4.0|   acoustic|\n",
            "|         6|6Vc5wAMmXdKIAM7WU...|A Great Big World...|Is There Anybody ...|       Say Something|        74|     229400|   False|       0.407| 0.147|  2|  -8.822|   1|     0.0355|       0.857|         2.89E-6|  0.0913| 0.0765|141.284|           3.0|   acoustic|\n",
            "|         7|1EzrEOXmMH3G43AXT...|          Jason Mraz|We Sing. We Dance...|           I'm Yours|        80|     242946|   False|       0.703| 0.444| 11|  -9.331|   1|     0.0417|       0.559|             0.0|  0.0973|  0.712| 150.96|           4.0|   acoustic|\n",
            "|         8|0IktbUcnAGrvD03AW...|Jason Mraz;Colbie...|We Sing. We Dance...|               Lucky|        74|     189613|   False|       0.625| 0.414|  0|    -8.7|   1|     0.0369|       0.294|             0.0|   0.151|  0.669|130.088|           4.0|   acoustic|\n",
            "|         9|7k9GuJYLp2AzqokyE...|      Ross Copperman|              Hunger|              Hunger|        56|     205594|   False|       0.442| 0.632|  1|   -6.77|   1|     0.0295|       0.426|         0.00419|  0.0735|  0.196| 78.899|           4.0|   acoustic|\n",
            "|        10|4mzP5mHkRvGxdhdGd...|        Zack Tabudlo|             Episode|Give Me Your Forever|        74|     244800|   False|       0.627| 0.363|  8|  -8.127|   1|     0.0291|       0.279|             0.0|  0.0928|  0.301| 99.905|           4.0|   acoustic|\n",
            "|        11|5ivF4eQBqJiVL5IAE...|          Jason Mraz|Love Is a Four Le...|     I Won't Give Up|        69|     240165|   False|       0.483| 0.303|  4| -10.058|   1|     0.0429|       0.694|             0.0|   0.115|  0.139|133.406|           3.0|   acoustic|\n",
            "|        12|4ptDJbJl35d7gQfeN...|            Dan Berk|                Solo|                Solo|        52|     198712|   False|       0.489| 0.314|  7|  -9.245|   0|     0.0331|       0.749|             0.0|   0.113|  0.607|124.234|           4.0|   acoustic|\n",
            "|        13|0X9MxHR1rTkEHDjp9...|       Anna Hamilton|            Bad Liar|            Bad Liar|        62|     248448|   False|       0.691| 0.234|  3|  -6.441|   1|     0.0285|       0.777|             0.0|    0.12|  0.209| 87.103|           4.0|   acoustic|\n",
            "|        14|4LbWtBkN82ZRhz9jq...|Chord Overstreet;...|     Hold On (Remix)|     Hold On - Remix|        56|     188133|   False|       0.755|  0.78|  2|  -6.084|   1|     0.0327|       0.124|         2.83E-5|   0.121|  0.387|120.004|           4.0|   acoustic|\n",
            "|        15|1KHdq8NK9QxnGjdXb...|         Landon Pigg|   The Boy Who Never|Falling in Love a...|        58|     244986|   False|       0.489| 0.561|  4|  -7.933|   1|     0.0274|         0.2|         4.56E-5|   0.179|  0.238| 83.457|           3.0|   acoustic|\n",
            "|        16|6xKeQgzfjixSUld14...|Andrew Foy;Renee Foy|ily (i love you b...|ily (i love you b...|        56|     129750|   False|       0.706| 0.112|  2| -18.098|   1|     0.0391|       0.827|         4.03E-6|   0.125|  0.414|110.154|           4.0|   acoustic|\n",
            "|        17|4Yo0igmcoNyat1sec...|Andrew Foy;Renee Foy|         At My Worst|         At My Worst|        54|     169728|   False|       0.795|0.0841| 10|  -18.09|   0|     0.0461|       0.742|         1.17E-5|  0.0853|  0.609| 91.803|           4.0|   acoustic|\n",
            "|        18|2qLMf6TuEC3ruGJg4...|Jason Mraz;Colbie...|We Sing. We Dance...|               Lucky|        68|     189613|   False|       0.625| 0.414|  0|    -8.7|   1|     0.0369|       0.294|             0.0|   0.151|  0.669|130.088|           4.0|   acoustic|\n",
            "|        19|6CgNoAbFJ4Q4Id4Ej...|Boyce Avenue;Bea ...|Cover Sessions, V...|          Photograph|        67|     260186|   False|       0.717|  0.32|  3|  -8.393|   1|     0.0283|        0.83|             0.0|   0.107|  0.322|107.946|           4.0|   acoustic|\n",
            "+----------+--------------------+--------------------+--------------------+--------------------+----------+-----------+--------+------------+------+---+--------+----+-----------+------------+----------------+--------+-------+-------+--------------+-----------+\n",
            "only showing top 20 rows\n",
            "\n"
          ]
        }
      ]
    },
    {
      "cell_type": "code",
      "source": [
        "dataframe_view.createOrReplaceTempView(\"view\")"
      ],
      "metadata": {
        "id": "igZsNxinjOAg"
      },
      "execution_count": 128,
      "outputs": []
    },
    {
      "cell_type": "markdown",
      "source": [
        "Mostrar o TOP 10 do spotify"
      ],
      "metadata": {
        "id": "DlVINc0FffdJ"
      }
    },
    {
      "cell_type": "code",
      "source": [
        "most_popular_music = spark.sql(\"SELECT track_name, artists, popularity FROM view ORDER BY popularity DESC LIMIT 10\")\n",
        "most_popular_music.show()"
      ],
      "metadata": {
        "colab": {
          "base_uri": "https://localhost:8080/"
        },
        "id": "4-d6WDjBjbgC",
        "outputId": "29800932-7edb-4dc1-9749-1dd357bee3b6"
      },
      "execution_count": 129,
      "outputs": [
        {
          "output_type": "stream",
          "name": "stdout",
          "text": [
            "+--------------------+--------------------+----------+\n",
            "|          track_name|             artists|popularity|\n",
            "+--------------------+--------------------+----------+\n",
            "|Quevedo: Bzrp Mus...|    Bizarrap;Quevedo|        99|\n",
            "|     I'm Good (Blue)|David Guetta;Bebe...|        98|\n",
            "|     I'm Good (Blue)|David Guetta;Bebe...|        98|\n",
            "|          La Bachata|       Manuel Turizo|        98|\n",
            "|     I'm Good (Blue)|David Guetta;Bebe...|        98|\n",
            "|          La Bachata|       Manuel Turizo|        98|\n",
            "|          La Bachata|       Manuel Turizo|        98|\n",
            "|          La Bachata|       Manuel Turizo|        98|\n",
            "|     Me Porto Bonito|Bad Bunny;Chencho...|        97|\n",
            "|     Me Porto Bonito|Bad Bunny;Chencho...|        97|\n",
            "+--------------------+--------------------+----------+\n",
            "\n"
          ]
        }
      ]
    },
    {
      "cell_type": "markdown",
      "source": [
        "Mostrar a música mais famosa do spotify"
      ],
      "metadata": {
        "id": "2Ejo3caZfnSV"
      }
    },
    {
      "cell_type": "code",
      "source": [
        "most_popular_album = spark.sql(\"SELECT * FROM view WHERE album_name = (SELECT album_name FROM view ORDER BY popularity DESC LIMIT 1)\")\n",
        "most_popular_album.show()"
      ],
      "metadata": {
        "colab": {
          "base_uri": "https://localhost:8080/"
        },
        "id": "OwvZEvcmWGit",
        "outputId": "02ffcb49-59d1-4cd3-b101-4f95a156056b"
      },
      "execution_count": 152,
      "outputs": [
        {
          "output_type": "stream",
          "name": "stdout",
          "text": [
            "+----------+--------------------+----------------+--------------------+--------------------+----------+-----------+--------+------------+------+---+--------+----+-----------+------------+----------------+--------+-------+-------+--------------+-----------+\n",
            "|Unnamed: 0|            track_id|         artists|          album_name|          track_name|popularity|duration_ms|explicit|danceability|energy|key|loudness|mode|speechiness|acousticness|instrumentalness|liveness|valence|  tempo|time_signature|track_genre|\n",
            "+----------+--------------------+----------------+--------------------+--------------------+----------+-----------+--------+------------+------+---+--------+----+-----------+------------+----------------+--------+-------+-------+--------------+-----------+\n",
            "|     51664|2tTmW7RDtMQtBk7m2...|Bizarrap;Quevedo|Quevedo: Bzrp Mus...|Quevedo: Bzrp Mus...|        99|     198937|   False|       0.621| 0.782|  2|  -5.548|   1|      0.044|      0.0125|           0.033|    0.23|   0.55|128.033|           4.0|    hip-hop|\n",
            "+----------+--------------------+----------------+--------------------+--------------------+----------+-----------+--------+------------+------+---+--------+----+-----------+------------+----------------+--------+-------+-------+--------------+-----------+\n",
            "\n"
          ]
        }
      ]
    },
    {
      "cell_type": "markdown",
      "source": [
        "Mostrar os albuns de um(a) cantor(a)"
      ],
      "metadata": {
        "id": "UNRsVVE5fsw6"
      }
    },
    {
      "cell_type": "code",
      "source": [
        "singer = \"Billie Eilish\"\n",
        "filter_singer = dataframe_view.select(\"artists\", \"album_name\").filter(dataframe_view.artists == singer)\n",
        "filter_singer.show()"
      ],
      "metadata": {
        "colab": {
          "base_uri": "https://localhost:8080/"
        },
        "id": "eY9hRr0Vef6x",
        "outputId": "f7027552-1c48-4da9-c82a-b3a557c02b44"
      },
      "execution_count": 131,
      "outputs": [
        {
          "output_type": "stream",
          "name": "stdout",
          "text": [
            "+-------------+--------------------+\n",
            "|      artists|          album_name|\n",
            "+-------------+--------------------+\n",
            "|Billie Eilish|WHEN WE ALL FALL ...|\n",
            "|Billie Eilish|   Halloween & Chill|\n",
            "|Billie Eilish|      pov: it's 2021|\n",
            "|Billie Eilish|   Отново на училище|\n",
            "|Billie Eilish|Halloween Songs |...|\n",
            "|Billie Eilish|   Halloween & Chill|\n",
            "|Billie Eilish|Twisted Halloween...|\n",
            "|Billie Eilish|   Halloween & Chill|\n",
            "|Billie Eilish|Halloween Party 2022|\n",
            "|Billie Eilish|Halloween & Alter...|\n",
            "|Billie Eilish|         Girls Night|\n",
            "|Billie Eilish|Halloween Party 2022|\n",
            "|Billie Eilish|      Halloween 2022|\n",
            "|Billie Eilish|     Pop & Halloween|\n",
            "|Billie Eilish|      Herbststimmung|\n",
            "|Billie Eilish|Halloween & Alter...|\n",
            "|Billie Eilish|Beginner Ride (Sw...|\n",
            "|Billie Eilish|      Halloween 2022|\n",
            "|Billie Eilish|Halloween Party 2022|\n",
            "|Billie Eilish|Halloween Party 2022|\n",
            "+-------------+--------------------+\n",
            "only showing top 20 rows\n",
            "\n"
          ]
        }
      ]
    },
    {
      "cell_type": "markdown",
      "source": [
        "Mostrar a média de tempo de música dos artistas mais ouvidos"
      ],
      "metadata": {
        "id": "IEMlOnssloMR"
      }
    },
    {
      "cell_type": "code",
      "source": [
        "average_time_popular_songs = spark.sql(\"SELECT artists, AVG(duration_ms) FROM view WHERE popularity >= 90 GROUP BY artists LIMIT 10\")\n",
        "average_time_popular_songs.show()"
      ],
      "metadata": {
        "colab": {
          "base_uri": "https://localhost:8080/"
        },
        "id": "0rlzZWheltwJ",
        "outputId": "d8fb51c7-7991-4b7a-b4fe-fa333a9c84ea"
      },
      "execution_count": 151,
      "outputs": [
        {
          "output_type": "stream",
          "name": "stdout",
          "text": [
            "+--------------------+------------------+\n",
            "|             artists|  avg(duration_ms)|\n",
            "+--------------------+------------------+\n",
            "|           Lil Nas X|          210575.0|\n",
            "|James Hype;Miggy ...|          186661.0|\n",
            "|       Manuel Turizo|          162637.0|\n",
            "|   The Neighbourhood|          240400.0|\n",
            "|    Bad Bunny;Jhayco|          237894.0|\n",
            "|           Tom Odell|          244360.0|\n",
            "|Charlie Puth;Jung...|          154486.0|\n",
            "|           Bad Bunny|222014.73333333334|\n",
            "|             Seafret|          229173.0|\n",
            "|         Nicki Minaj|          170977.0|\n",
            "+--------------------+------------------+\n",
            "\n"
          ]
        }
      ]
    },
    {
      "cell_type": "markdown",
      "source": [
        "Mostrar os ritmos mais populares"
      ],
      "metadata": {
        "id": "jebCI5RFn2bU"
      }
    },
    {
      "cell_type": "code",
      "source": [
        "dataframe_genre = dataframe_view.select(\"track_genre\").distinct().orderBy(col(\"popularity\").asc()).show()\n",
        "dataframe_genre"
      ],
      "metadata": {
        "colab": {
          "base_uri": "https://localhost:8080/"
        },
        "id": "CrZUJkgjoUvS",
        "outputId": "491a3245-5861-498d-b051-20b9992d9fd5"
      },
      "execution_count": 165,
      "outputs": [
        {
          "output_type": "stream",
          "name": "stdout",
          "text": [
            "+--------------+\n",
            "|   track_genre|\n",
            "+--------------+\n",
            "|         latin|\n",
            "|         salsa|\n",
            "|        pagode|\n",
            "|         party|\n",
            "|        reggae|\n",
            "|     grindcore|\n",
            "|       iranian|\n",
            "|         tango|\n",
            "|       romance|\n",
            "|   heavy-metal|\n",
            "|          kids|\n",
            "|         samba|\n",
            "|      cantopop|\n",
            "|     breakbeat|\n",
            "|        gospel|\n",
            "|         forro|\n",
            "|          goth|\n",
            "|   black-metal|\n",
            "|detroit-techno|\n",
            "|         study|\n",
            "+--------------+\n",
            "only showing top 20 rows\n",
            "\n"
          ]
        }
      ]
    }
  ]
}